{
 "cells": [
  {
   "cell_type": "code",
   "execution_count": null,
   "metadata": {},
   "outputs": [],
   "source": []
  },
  {
   "cell_type": "code",
   "execution_count": 3,
   "metadata": {},
   "outputs": [
    {
     "name": "stdout",
     "output_type": "stream",
     "text": [
      "1451\n",
      "finish\n"
     ]
    }
   ],
   "source": [
    "import cv2\n",
    "import numpy as np\n",
    "\n",
    "def m_slice(path, dir, step, extension):\n",
    "    movie = cv2.VideoCapture(path)                  # 動画の読み込み\n",
    "    Fs = int(movie.get(cv2.CAP_PROP_FRAME_COUNT))   # 動画の全フレーム数を計算\n",
    "    path_head = dir                        # 静止画のファイル名のヘッダー\n",
    "    ext_index = np.arange(0, Fs, step)              # 静止画を抽出する間隔\n",
    "\n",
    "    print(Fs)\n",
    "    \n",
    "    for i in range(Fs - 1):                         # フレームサイズ分のループを回す\n",
    "        flag, frame = movie.read()                  # 動画から1フレーム読み込む\n",
    "        check = i == ext_index                      # 現在のフレーム番号iが、抽出する指標番号と一致するかチェックする\n",
    "        \n",
    "        # frameを取得できた(flag=True)時だけ処理を行う\n",
    "        if flag == True:\n",
    "            # もしi番目のフレームが静止画を抽出するものであれば、ファイル名を付けて保存する\n",
    "            if True in check:\n",
    "            \n",
    "                path_out = path_head + str(i) + extension\n",
    "                cv2.imwrite(path_out, frame)\n",
    "            # i番目のフレームが静止画を抽出しないものであれば、何も処理をしない\n",
    "            else:\n",
    "                pass\n",
    "        else:\n",
    "            pass\n",
    "    return\n",
    "\n",
    "# 関数実行：引数=（ファイル名のパス、保存先のフォルダパス、ステップ数、静止画拡張子）\n",
    "m_slice('./movie/face/出口/mh.mp4', 'image/deguti_A/mh/', 3, '.jpg')\n",
    "print('finish')"
   ]
  }
 ],
 "metadata": {
  "kernelspec": {
   "display_name": "Python 3",
   "language": "python",
   "name": "python3"
  },
  "language_info": {
   "codemirror_mode": {
    "name": "ipython",
    "version": 3
   },
   "file_extension": ".py",
   "mimetype": "text/x-python",
   "name": "python",
   "nbconvert_exporter": "python",
   "pygments_lexer": "ipython3",
   "version": "3.6.4"
  }
 },
 "nbformat": 4,
 "nbformat_minor": 2
}
